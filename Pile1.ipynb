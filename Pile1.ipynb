{
 "cells": [
  {
   "cell_type": "code",
   "execution_count": 8,
   "id": "51eaccae-bcd7-413f-9fb8-5c6fed00e5de",
   "metadata": {},
   "outputs": [],
   "source": [
    "import numpy as np\n",
    "import pandas as pd\n",
    "import math\n",
    "import os\n",
    "dpath = os.path.join('.', 'data')"
   ]
  },
  {
   "cell_type": "markdown",
   "id": "84dfb81c-9c99-4c94-b964-dcafc4f8490f",
   "metadata": {
    "tags": []
   },
   "source": [
    "# Расчет несущей способности буровой сваи"
   ]
  },
  {
   "cell_type": "markdown",
   "id": "1aff4bb5-9ca0-4661-88f9-2aaa3d4b74d7",
   "metadata": {
    "tags": []
   },
   "source": [
    "# Исходные данные"
   ]
  },
  {
   "cell_type": "markdown",
   "id": "145a379c-27c5-4944-833e-15cb3797f3ee",
   "metadata": {
    "tags": []
   },
   "source": [
    "**Грунты:**"
   ]
  },
  {
   "cell_type": "code",
   "execution_count": 9,
   "id": "c5143f94",
   "metadata": {},
   "outputs": [],
   "source": [
    "NL = -0.35 # отметка поверхности природного рельефа\n",
    "DL = -1.29 # отметка планировки\n",
    "soil = pd.read_table(os.path.join(dpath, 'Грунт.csv'), sep=';')"
   ]
  },
  {
   "cell_type": "markdown",
   "id": "83afa74d-8498-4cca-99ae-dc2242a50654",
   "metadata": {},
   "source": [
    "**Параметры сваи:**"
   ]
  },
  {
   "cell_type": "code",
   "execution_count": 10,
   "id": "c8dabf9f-219e-47c9-b31c-908f31504fe9",
   "metadata": {},
   "outputs": [],
   "source": [
    "d = 880 # диаметр сваи, мм\n",
    "Yc = 1 # Коэффициент условий работы сваи"
   ]
  },
  {
   "cell_type": "markdown",
   "id": "efeabf6a-8a5d-4b3f-b3ed-ae449f3c53cd",
   "metadata": {},
   "source": [
    "# Расчёт"
   ]
  },
  {
   "cell_type": "code",
   "execution_count": 11,
   "id": "81257dcb",
   "metadata": {},
   "outputs": [],
   "source": [
    "def Rf(tbl, il, z):\n",
    "    tbl.index = pd.to_numeric(tbl.index)\n",
    "    new_index = np.unique(list(tbl.index) + [z])\n",
    "    new_tbl = tbl.reindex(new_index).interpolate('index').loc[z]\n",
    "    new_tbl.index = pd.to_numeric(new_tbl.index)\n",
    "    new_id = np.unique(list(pd.to_numeric(new_tbl.index)) + [il])\n",
    "    rf = new_tbl.reindex(new_id).interpolate('index').loc[il]\n",
    "    return rf\n",
    "def fi(t, il, z):\n",
    "    if t == 'песчаный':\n",
    "        tbl = pd.read_table(os.path.join(dpath, 'Песчаные_7.3.csv'), sep=';', index_col=0)\n",
    "    else:\n",
    "        tbl = pd.read_table(os.path.join(dpath, 'Глинистые_7.3.csv'), sep=';', index_col=0)\n",
    "    f = Rf(tbl, il, z)\n",
    "    return f\n",
    "\n",
    "def ri(t, il, z):\n",
    "    if t == 'Глинистые_7.8':\n",
    "        tbl = pd.read_table(os.path.join(dpath, t + '.csv'), sep=';', index_col=0).interpolate()\n",
    "        r = Rf(tbl, il, z)\n",
    "        print('R=', round(r, 3), 'кПа')\n",
    "    else:\n",
    "        tbl_1_2 = pd.read_table(os.path.join(dpath, t + '_1_2' + '.csv'), sep=';').transpose()\n",
    "        tbl_1_2.index = pd.to_numeric(tbl_1_2.index)\n",
    "        new_index = np.unique(list(tbl_1_2.index) + [il])\n",
    "        alpha_1_2 = tbl_1_2.reindex(new_index).interpolate('index').loc[il]\n",
    "        print('alpha_1=', round(alpha_1_2[0], 3))\n",
    "        print('alpha_2=', round(alpha_1_2[1], 3))\n",
    "        tbl_3 = pd.read_table(os.path.join(dpath, t + '_3' + '.csv'), sep=';', index_col=0)\n",
    "        alpha_3 = Rf(tbl_3, il, z / d * 1000)\n",
    "        print('alpha_3=', round(alpha_3, 3))\n",
    "        tbl_4 = pd.read_table(os.path.join(dpath, t + '_4' + '.csv'), sep=';', index_col=0)\n",
    "        alpha_4 = Rf(tbl_4, il, d / 1000)\n",
    "        print('alpha_4=', round(alpha_4, 3))\n",
    "        Y1_ = soil['Y'][n]\n",
    "        print('Y1_=', round(Y1_, 3), 'кН/м^3')\n",
    "        Y1 = sum(soil['Y'].head(-1) * soil['h'].head(-1)) / sum(soil['h'].head(-1))\n",
    "        print('Y1=', round(Y1, 3), 'кН/м^3')\n",
    "        print('h=', round(z, 3), 'м')\n",
    "        r = 0.75 * alpha_4 * (alpha_1_2[0] * Y1_ * d / 1000 + alpha_1_2[1] * alpha_3 * Y1 * z)\n",
    "        print('R=', round(r, 3), 'кПа')\n",
    "    return r"
   ]
  },
  {
   "cell_type": "code",
   "execution_count": 12,
   "id": "b829177a-743d-4593-8184-ef0b12069e69",
   "metadata": {},
   "outputs": [],
   "source": [
    "if DL > NL:\n",
    "    cut = 'подсыпка'\n",
    "elif DL < NL:\n",
    "    cut = 'срезка'\n",
    "else:\n",
    "    cut = 'нет'\n",
    "cutv = DL - NL\n",
    "\n",
    "if abs(cutv) < 3.0:\n",
    "    CL = NL\n",
    "elif cutv < 0:\n",
    "    CL = DL + 3.0\n",
    "else:\n",
    "    CL = DL - 3.0\n",
    "soil['h'] = np.append(soil['Верх'].head(-1).to_numpy() - soil['Верх'].tail(-1).to_numpy(), 0)\n",
    "soil['z'] = abs(soil['Верх'].to_numpy() - soil['h'].to_numpy()/2 - CL)"
   ]
  },
  {
   "cell_type": "code",
   "execution_count": 13,
   "id": "196e0235",
   "metadata": {},
   "outputs": [
    {
     "name": "stdout",
     "output_type": "stream",
     "text": [
      "alpha_1= 29.5\n",
      "alpha_2= 54.75\n",
      "alpha_3= 0.61\n",
      "alpha_4= 0.264\n",
      "Y1_= 16.2 кН/м^3\n",
      "Y1= 17.35 кН/м^3\n",
      "h= 30.24 м\n",
      "R= 3549.402 кПа\n"
     ]
    }
   ],
   "source": [
    "n = len(soil)-1\n",
    "A = math.pi * (d/1000) ** 2 / 4\n",
    "u = math.pi * (d/1000)\n",
    "Lp = soil['Верх'][0] - soil['Верх'][n]\n",
    "pr = soil['IL/fi'][n]\n",
    "if soil['Грунт'][n] == 'песчаный':\n",
    "    if cut == 'срезка':\n",
    "        zr = DL - soil['Верх'][n]\n",
    "    else:\n",
    "        zr = NL - soil['Верх'][n]\n",
    "    tab = 'Песчаные_7.7'\n",
    "else:\n",
    "    zr = soil['z'][0] - soil['h'][0] / 2 + Lp\n",
    "    tab = 'Глинистые_7.8'\n",
    "f = np.zeros(n)\n",
    "R = ri(tab, soil['IL/fi'][n], zr)\n",
    "for i in range(0, n):\n",
    "    f[i] = fi(soil['Грунт'][i], soil['IL/fi'][i], soil['z'][i])\n",
    "soil['f/R'] = np.append(f, R)\n",
    "skin = u * sum(soil['YR'] * soil['f/R'] * soil['h'] * soil['k'])\n",
    "base = soil['YR'][n] * R * A * soil['k'][n]\n",
    "Fd = Yc * (base + skin)"
   ]
  },
  {
   "cell_type": "markdown",
   "id": "8673225c",
   "metadata": {},
   "source": [
    "# Результаты"
   ]
  },
  {
   "cell_type": "code",
   "execution_count": 14,
   "id": "590f77c1",
   "metadata": {},
   "outputs": [
    {
     "name": "stdout",
     "output_type": "stream",
     "text": [
      "Отметка поверхности природного рельефа NL= -0.35\n",
      "Планировка: срезка -0.94 м\n",
      "Условная отметка: -0.35 м\n",
      "Коэффициент условий работы сваи Yc= 1\n",
      "Параметры слоёв грунта:\n",
      "   ИГЭ   Верх      Грунт   IL/fi     Y  k   YR     h      z          f/R\n",
      "0   2' -15.13   песчаный   0.200  16.9  1  0.7  1.72  15.64    72.896000\n",
      "1   3' -16.85   песчаный   0.200  17.6  1  0.7  1.30  17.15    75.010000\n",
      "2   4' -18.15  глинистый   0.167  18.0  1  0.7  1.76  18.68    77.152000\n",
      "3   4' -19.91  глинистый   0.167  18.0  1  0.7  1.76  20.44    79.616000\n",
      "4   4' -21.67  глинистый   0.167  18.0  1  0.7  1.76  22.20    82.080000\n",
      "5   4' -23.43  глинистый   0.167  18.0  1  0.7  1.76  23.96    84.544000\n",
      "6   4' -25.19  глинистый   0.167  18.0  1  0.7  1.76  25.72    87.008000\n",
      "7   5' -26.95   песчаный   0.200  16.2  1  0.7  2.00  27.60    89.640000\n",
      "8   5' -28.95   песчаный   0.200  16.2  1  0.7  2.00  29.60    92.440000\n",
      "9   5' -30.95   песчаный   0.200  16.2  1  0.7  0.58  30.89    94.246000\n",
      "10  5' -31.53   песчаный  30.000  16.2  1  1.0  0.00  31.18  3549.401963\n",
      "Параметры сваи:\n",
      "Площадь опирания: 0.608 м^2\n",
      "Периметр сечения ствола: 2.765 м\n",
      "Длина: 16.4 м\n",
      "глубина заложения нижнего конца сваи 30.24 м\n",
      "Коэффициент надежности: 1\n",
      "Результаты:\n",
      "Боковая поверхность несёт: 2639.68 кН\n",
      "Конец сваи несёт: 2158.79 кН\n",
      "Несущая способность сваи Fd=: 4798.47 кН\n"
     ]
    }
   ],
   "source": [
    "print('Отметка поверхности природного рельефа NL=', NL)\n",
    "print('Планировка:', cut, np.round(cutv, 2), 'м')\n",
    "print('Условная отметка:', CL, 'м')\n",
    "print('Коэффициент условий работы сваи Yc=', Yc)\n",
    "print('Параметры слоёв грунта:')\n",
    "print(soil)\n",
    "print('Параметры сваи:')\n",
    "print('Площадь опирания:', round(A, 3), 'м^2')\n",
    "print('Периметр сечения ствола:', round(u, 3), 'м')\n",
    "print('Длина:', Lp, 'м')\n",
    "print('глубина заложения нижнего конца сваи', round(zr, 2), 'м')\n",
    "print('Коэффициент надежности:', round(Yc, 3))\n",
    "print('Результаты:')\n",
    "print('Боковая поверхность несёт:', round(skin, 2), 'кН')\n",
    "print('Конец сваи несёт:', round(base, 2), 'кН')\n",
    "print('Несущая способность сваи Fd=:', round(Fd, 2), 'кН')"
   ]
  }
 ],
 "metadata": {
  "kernelspec": {
   "display_name": "Python 3 (ipykernel)",
   "language": "python",
   "name": "python3"
  },
  "language_info": {
   "codemirror_mode": {
    "name": "ipython",
    "version": 3
   },
   "file_extension": ".py",
   "mimetype": "text/x-python",
   "name": "python",
   "nbconvert_exporter": "python",
   "pygments_lexer": "ipython3",
   "version": "3.9.13"
  }
 },
 "nbformat": 4,
 "nbformat_minor": 5
}
