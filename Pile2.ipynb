{
 "cells": [
  {
   "cell_type": "code",
   "execution_count": 1,
   "id": "51eaccae-bcd7-413f-9fb8-5c6fed00e5de",
   "metadata": {},
   "outputs": [],
   "source": [
    "import numpy as np\n",
    "import pandas as pd\n",
    "import math\n",
    "import os\n",
    "dpath = os.path.join( os.curdir, 'data')\n",
    "path = os.curdir"
   ]
  },
  {
   "cell_type": "markdown",
   "id": "84dfb81c-9c99-4c94-b964-dcafc4f8490f",
   "metadata": {
    "tags": []
   },
   "source": [
    "# Расчет несущей способности буровой сваи"
   ]
  },
  {
   "cell_type": "markdown",
   "id": "1aff4bb5-9ca0-4661-88f9-2aaa3d4b74d7",
   "metadata": {
    "tags": []
   },
   "source": [
    "# Исходные данные"
   ]
  },
  {
   "cell_type": "markdown",
   "id": "145a379c-27c5-4944-833e-15cb3797f3ee",
   "metadata": {
    "tags": []
   },
   "source": [
    "**Грунты:**"
   ]
  },
  {
   "cell_type": "code",
   "execution_count": 2,
   "id": "c5143f94",
   "metadata": {},
   "outputs": [],
   "source": [
    "dat = 'Грунт2.csv'\n",
    "NL = -0.52 # отметка поверхности природного рельефа\n",
    "DL = 0 # отметка планировки\n",
    "soil = pd.read_table(os.path.join(path, dat), sep=';')"
   ]
  },
  {
   "cell_type": "markdown",
   "id": "83afa74d-8498-4cca-99ae-dc2242a50654",
   "metadata": {},
   "source": [
    "**Параметры сваи:**"
   ]
  },
  {
   "cell_type": "code",
   "execution_count": 3,
   "id": "c8dabf9f-219e-47c9-b31c-908f31504fe9",
   "metadata": {},
   "outputs": [],
   "source": [
    "d = 880 # диаметр сваи, мм\n",
    "Yc = 1 # Коэффициент условий работы сваи"
   ]
  },
  {
   "cell_type": "markdown",
   "id": "efeabf6a-8a5d-4b3f-b3ed-ae449f3c53cd",
   "metadata": {},
   "source": [
    "# Расчёт"
   ]
  },
  {
   "cell_type": "code",
   "execution_count": 4,
   "id": "81257dcb",
   "metadata": {},
   "outputs": [],
   "source": [
    "def Rf(tbl, il, z):\n",
    "    tbl.index = pd.to_numeric(tbl.index)\n",
    "    new_index = np.unique(list(tbl.index) + [z])\n",
    "    new_tbl = tbl.reindex(new_index).interpolate('index').loc[z]\n",
    "    new_tbl.index = pd.to_numeric(new_tbl.index)\n",
    "    new_id = np.unique(list(pd.to_numeric(new_tbl.index)) + [il])\n",
    "    rf = new_tbl.reindex(new_id).interpolate('index').loc[il]\n",
    "    return rf\n",
    "def fi(t, il, z):\n",
    "    if t == 'песчаный':\n",
    "        tbl = pd.read_table(os.path.join(dpath, 'Песчаные_7.3.csv'), sep=';', index_col=0)\n",
    "    else:\n",
    "        tbl = pd.read_table(os.path.join(dpath, 'Глинистые_7.3.csv'), sep=';', index_col=0)\n",
    "    f = Rf(tbl, il, z)\n",
    "    return f\n",
    "\n",
    "def ri(t, il, z):\n",
    "    if t == 'Глинистые_7.8':\n",
    "        tbl = pd.read_table(os.path.join(dpath, t + '.csv'), sep=';', index_col=0).interpolate()\n",
    "        r = Rf(tbl, il, z)\n",
    "        print('R=', round(r, 3), 'кПа')\n",
    "    else:\n",
    "        tbl_1_2 = pd.read_table(os.path.join(dpath, t + '_1_2' + '.csv'), sep=';').transpose()\n",
    "        tbl_1_2.index = pd.to_numeric(tbl_1_2.index)\n",
    "        new_index = np.unique(list(tbl_1_2.index) + [il])\n",
    "        alpha_1_2 = tbl_1_2.reindex(new_index).interpolate('index').loc[il]\n",
    "        print('alpha_1=', round(alpha_1_2[0], 3))\n",
    "        print('alpha_2=', round(alpha_1_2[1], 3))\n",
    "        tbl_3 = pd.read_table(os.path.join(dpath, t + '_3' + '.csv'), sep=';', index_col=0)\n",
    "        alpha_3 = Rf(tbl_3, il, z / d * 1000)\n",
    "        print('alpha_3=', round(alpha_3, 3))\n",
    "        tbl_4 = pd.read_table(os.path.join(dpath, t + '_4' + '.csv'), sep=';', index_col=0)\n",
    "        alpha_4 = Rf(tbl_4, il, d / 1000)\n",
    "        print('alpha_4=', round(alpha_4, 3))\n",
    "        Y1_ = soil['Y'][n]\n",
    "        print('Y1_=', round(Y1_, 3), 'кН/м^3')\n",
    "        Y1 = sum(soil['Y'].head(-1) * soil['h'].head(-1)) / sum(soil['h'].head(-1))\n",
    "        print('Y1=', round(Y1, 3), 'кН/м^3')\n",
    "        print('h=', round(z, 3), 'м')\n",
    "        r = 0.75 * alpha_4 * (alpha_1_2[0] * Y1_ * d / 1000 + alpha_1_2[1] * alpha_3 * Y1 * z)\n",
    "    return r"
   ]
  },
  {
   "cell_type": "code",
   "execution_count": 5,
   "id": "b829177a-743d-4593-8184-ef0b12069e69",
   "metadata": {},
   "outputs": [],
   "source": [
    "if DL > NL:\n",
    "    cut = 'подсыпка'\n",
    "elif DL < NL:\n",
    "    cut = 'срезка'\n",
    "else:\n",
    "    cut = 'нет'\n",
    "cutv = DL - NL\n",
    "\n",
    "if abs(cutv) < 3.0:\n",
    "    CL = NL\n",
    "elif cutv < 0:\n",
    "    CL = DL + 3.0\n",
    "else:\n",
    "    CL = DL - 3.0\n",
    "soil['h'] = np.append(soil['Верх'].head(-1).to_numpy() - soil['Верх'].tail(-1).to_numpy(), 0)\n",
    "soil['z'] = abs(soil['Верх'].to_numpy() - soil['h'].to_numpy()/2 - CL)"
   ]
  },
  {
   "cell_type": "code",
   "execution_count": 6,
   "id": "196e0235",
   "metadata": {},
   "outputs": [
    {
     "name": "stdout",
     "output_type": "stream",
     "text": [
      "alpha_1= 55.41\n",
      "alpha_2= 99.42\n",
      "alpha_3= 0.679\n",
      "alpha_4= 0.246\n",
      "Y1_= 10.5 кН/м^3\n",
      "Y1= 13.374 кН/м^3\n",
      "h= 22.83 м\n",
      "R_Tab_7.2= 11047.52 кПа\n",
      "R_Tab_Песчаные_7.7 = 3893.203 кПа\n"
     ]
    }
   ],
   "source": [
    "n = len(soil)-1\n",
    "A = math.pi * (d/1000) ** 2 / 4\n",
    "u = math.pi * (d/1000)\n",
    "Lp = soil['Верх'][0] - soil['Верх'][n]\n",
    "pr = soil['IL/fi'][n]\n",
    "if soil['Грунт'][n] == 'песчаный':\n",
    "    if cut == 'срезка':\n",
    "        zr = DL - soil['Верх'][n]\n",
    "    else:\n",
    "        zr = NL - soil['Верх'][n]\n",
    "    tab = 'Песчаные_7.7'\n",
    "    R = ri(tab, soil['IL/fi'][n], zr)\n",
    "    tblmax = pd.read_table(os.path.join(dpath, 'Песчаные_7.2.csv'), sep=';', index_col=0)\n",
    "    Rmax = Rf(tblmax, soil['IL/fi'][n-1], soil['z'][n]) * soil['k'][n]\n",
    "    if Rmax > 20000:\n",
    "        Rmax = 20000\n",
    "    if R > Rmax:\n",
    "        R = Rmax\n",
    "    print('R_Tab_7.2=', round(Rmax, 3), 'кПа')\n",
    "else:\n",
    "    zr = soil['z'][0] - soil['h'][0] / 2 + Lp\n",
    "    tab = 'Глинистые_7.8'\n",
    "    R = ri(tab, soil['IL/fi'][n], zr)\n",
    "f = np.zeros(n)\n",
    "print('R_Tab_'+ tab, '=', round(R, 3), 'кПа')\n",
    "for i in range(0, n):\n",
    "    f[i] = fi(soil['Грунт'][i], soil['IL/fi'][i], soil['z'][i])\n",
    "soil['f/R'] = np.append(f, R)\n",
    "skin = u * sum(soil['YR'] * soil['f/R'] * soil['h'] * soil['k'])\n",
    "base = soil['YR'][n] * R * A\n",
    "Fd = Yc * (base + skin)"
   ]
  },
  {
   "cell_type": "markdown",
   "id": "8673225c",
   "metadata": {},
   "source": [
    "# Результаты"
   ]
  },
  {
   "cell_type": "code",
   "execution_count": 7,
   "id": "590f77c1",
   "metadata": {},
   "outputs": [
    {
     "name": "stdout",
     "output_type": "stream",
     "text": [
      "Отметка поверхности природного рельефа NL= -0.52\n",
      "Планировка: подсыпка 0.52 м\n",
      "Условная отметка: -0.52 м\n",
      "Коэффициент условий работы сваи Yc= 1\n",
      "Параметры слоёв грунта:\n",
      "   ИГЭ   Верх      Грунт  IL/fi      Y    k   YR     h       z          f/R\n",
      "0   2'  -6.35  глинистый   0.66  18.64  1.0  0.7  2.00   6.830    13.366000\n",
      "1   2'  -8.35  глинистый   0.66  18.64  1.0  0.7  0.83   8.245    13.600000\n",
      "2   5'  -9.18  глинистый   0.35  19.42  1.0  0.7  2.10   9.710    39.782500\n",
      "3   3' -11.28  глинистый   0.36  20.01  1.0  0.7  1.20  11.360    39.996800\n",
      "4   7' -12.48   песчаный   0.30  10.40  1.3  0.7  2.00  12.960    48.960000\n",
      "5   7' -14.48   песчаный   0.30  10.40  1.3  0.7  0.50  14.210    50.210000\n",
      "6   6' -14.98   песчаный   0.30   9.30  1.0  0.7  2.00  15.460    51.460000\n",
      "7   6' -16.98   песчаный   0.30   9.30  1.0  0.7  1.40  17.160    53.160000\n",
      "8   9' -18.38   песчаный   0.20  10.50  1.3  0.7  2.00  18.860    77.404000\n",
      "9   9' -20.38   песчаный   0.20  10.50  1.3  0.7  2.00  20.860    80.204000\n",
      "10  9' -22.38   песчаный   0.20  10.50  1.3  0.7  0.97  22.345    82.283000\n",
      "11  9' -23.35   песчаный  33.60  10.50  1.6  1.0  0.00  22.830  3893.202813\n",
      "Первая строка в таблице - для низа ростверка\n",
      "Последняя строка в таблице - для низа сваи\n",
      "Обозначения по п.7.2.10, 7.2.11 СП 24.13330.2021 Свайные фундаменты\n",
      "k - коэффициенты к таблицам 7.2, 7.3,  СП 24.13330.2021 Свайные фундаменты\n",
      "fi - для низа сваи при песчаных грунтах, градусы\n",
      "R - расчетное сопротивление грунта под нижним концом сваи, кПа\n",
      "Параметры сваи:\n",
      "Площадь опирания A= 0.608 м^2\n",
      "Периметр сечения ствола u= 2.765 м\n",
      "Длина сваи: 17.0 м\n",
      "глубина заложения нижнего конца сваи 22.83 м\n",
      "Коэффициент надежности yc= 1\n",
      "Результаты:\n",
      "Боковая поверхность несёт: 1974.65 кН\n",
      "Конец сваи несёт: 2367.89 кН\n",
      "Несущая способность сваи Fd=: 4342.55 кН\n"
     ]
    }
   ],
   "source": [
    "print('Отметка поверхности природного рельефа NL=', NL)\n",
    "print('Планировка:', cut, np.round(cutv, 2), 'м')\n",
    "print('Условная отметка:', CL, 'м')\n",
    "print('Коэффициент условий работы сваи Yc=', Yc)\n",
    "print('Параметры слоёв грунта:')\n",
    "print(soil)\n",
    "print('Первая строка в таблице - для низа ростверка')\n",
    "print('Последняя строка в таблице - для низа сваи')\n",
    "print('Обозначения по п.7.2.10, 7.2.11 СП 24.13330.2021 Свайные фундаменты')\n",
    "print('k - коэффициенты к таблицам 7.2, 7.3,  СП 24.13330.2021 Свайные фундаменты')\n",
    "print('fi - для низа сваи при песчаных грунтах, градусы')\n",
    "print('R - расчетное сопротивление грунта под нижним концом сваи, кПа')\n",
    "print('Параметры сваи:')\n",
    "print('Площадь опирания A=', round(A, 3), 'м^2')\n",
    "print('Периметр сечения ствола u=', round(u, 3), 'м')\n",
    "print('Длина сваи:', Lp, 'м')\n",
    "print('глубина заложения нижнего конца сваи', round(zr, 2), 'м')\n",
    "print('Коэффициент надежности yc=', round(Yc, 3))\n",
    "print('Результаты:')\n",
    "print('Боковая поверхность несёт:', round(skin, 2), 'кН')\n",
    "print('Конец сваи несёт:', round(base, 2), 'кН')\n",
    "print('Несущая способность сваи Fd=:', round(Fd, 2), 'кН')"
   ]
  }
 ],
 "metadata": {
  "kernelspec": {
   "display_name": "Python 3 (ipykernel)",
   "language": "python",
   "name": "python3"
  },
  "language_info": {
   "codemirror_mode": {
    "name": "ipython",
    "version": 3
   },
   "file_extension": ".py",
   "mimetype": "text/x-python",
   "name": "python",
   "nbconvert_exporter": "python",
   "pygments_lexer": "ipython3",
   "version": "3.10.9"
  }
 },
 "nbformat": 4,
 "nbformat_minor": 5
}
